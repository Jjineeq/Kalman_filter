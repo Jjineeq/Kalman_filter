{
 "cells": [
  {
   "cell_type": "code",
   "execution_count": null,
   "metadata": {},
   "outputs": [],
   "source": [
    "import numpy as np\n",
    "import matplotlib.pyplot as plt\n",
    "from scipy import io"
   ]
  },
  {
   "cell_type": "code",
   "execution_count": null,
   "metadata": {},
   "outputs": [],
   "source": [
    "input_mat = io.loadmat('../data/ArsGyro.mat')"
   ]
  },
  {
   "cell_type": "code",
   "execution_count": null,
   "metadata": {},
   "outputs": [],
   "source": [
    "def get_gyro(i):\n",
    "    \"\"\"Measure angular velocity using gyro.\"\"\"\n",
    "    p = input_mat['wx'][i][0]  # input_mat['wx']: (41500, 1)\n",
    "    q = input_mat['wy'][i][0]  # input_mat['wy']: (41500, 1)\n",
    "    r = input_mat['wz'][i][0]  # input_mat['wz']: (41500, 1)\n",
    "    return p, q, r"
   ]
  },
  {
   "cell_type": "code",
   "execution_count": null,
   "metadata": {},
   "outputs": [],
   "source": [
    "def euler_gyro(phi, the, psi, p, q, r, dt):\n",
    "    \"\"\"Calculate Euler angle (Pose Orientation).\"\"\"\n",
    "    sinPhi = np.sin(phi)\n",
    "    cosPhi = np.cos(phi)\n",
    "    cosThe = np.cos(the)\n",
    "    tanThe = np.tan(the)\n",
    "    phi = phi + dt * (p + q * sinPhi * tanThe + r * cosPhi * tanThe)\n",
    "    the = the + dt * (q * cosPhi - r * sinPhi)\n",
    "    psi = psi + dt * (q * sinPhi / cosThe + r * cosPhi / cosThe)\n",
    "    return phi, the, psi"
   ]
  },
  {
   "cell_type": "code",
   "execution_count": null,
   "metadata": {},
   "outputs": [],
   "source": [
    "# Input parameters.\n",
    "n_samples = 41500\n",
    "dt = 0.01"
   ]
  },
  {
   "cell_type": "code",
   "execution_count": null,
   "metadata": {},
   "outputs": [],
   "source": [
    "time = np.arange(n_samples) * dt\n",
    "phi_save = np.zeros(n_samples)\n",
    "the_save = np.zeros(n_samples)\n",
    "psi_save = np.zeros(n_samples)"
   ]
  },
  {
   "cell_type": "code",
   "execution_count": null,
   "metadata": {},
   "outputs": [],
   "source": [
    "phi, the, psi = 0, 0, 0\n",
    "for i in range(n_samples):\n",
    "    p, q, r = get_gyro(i)\n",
    "    phi, the, psi = euler_gyro(phi, the, psi, p, q, r, dt)\n",
    "    phi_save[i] = np.rad2deg(phi)\n",
    "    the_save[i] = np.rad2deg(the)\n",
    "    psi_save[i] = np.rad2deg(psi)"
   ]
  },
  {
   "cell_type": "code",
   "execution_count": null,
   "metadata": {},
   "outputs": [],
   "source": [
    "fig, axes = plt.subplots(nrows=3, ncols=1, figsize=(10, 20))\n",
    "\n",
    "plt.subplot(3, 1, 1)\n",
    "plt.plot(time, phi_save, 'r', label='Roll ($\\\\phi$)', markersize=0.2)\n",
    "plt.legend(loc='lower right')\n",
    "plt.title('Roll ($\\\\phi$)')\n",
    "plt.xlabel('Time [sec]')\n",
    "plt.ylabel('Roll ($\\phi$) angle [deg]')\n",
    "\n",
    "plt.subplot(3, 1, 2)\n",
    "plt.plot(time, the_save, 'b', label='Pitch ($\\\\theta$)', markersize=0.2)\n",
    "plt.legend(loc='lower right')\n",
    "plt.title('Pitch ($\\\\theta$)')\n",
    "plt.xlabel('Time [sec]')\n",
    "plt.ylabel('Pitch ($\\\\theta$) angle [deg]')\n",
    "\n",
    "plt.subplot(3, 1, 3)\n",
    "plt.plot(time, psi_save, 'g', label='Yaw ($\\\\psi$)', markersize=0.2)\n",
    "plt.legend(loc='lower right')\n",
    "plt.title('Yaw ($\\\\psi$)')\n",
    "plt.xlabel('Time [sec]')\n",
    "plt.ylabel('Yaw ($\\\\psi$) angle [deg]')\n",
    "\n",
    "plt.savefig('png/pose_orientation_gyro.png')"
   ]
  }
 ],
 "metadata": {
  "kernelspec": {
   "display_name": "Python 3",
   "language": "python",
   "name": "python3"
  },
  "language_info": {
   "codemirror_mode": {
    "name": "ipython",
    "version": 3
   },
   "file_extension": ".py",
   "mimetype": "text/x-python",
   "name": "python",
   "nbconvert_exporter": "python",
   "pygments_lexer": "ipython3",
   "version": "3.8.8"
  }
 },
 "nbformat": 4,
 "nbformat_minor": 2
}
