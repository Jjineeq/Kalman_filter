{
 "cells": [
  {
   "cell_type": "code",
   "execution_count": null,
   "metadata": {},
   "outputs": [],
   "source": [
    "import numpy as np\n",
    "import matplotlib.pyplot as plt\n",
    "from numpy.linalg import inv\n",
    "from scipy import io"
   ]
  },
  {
   "cell_type": "code",
   "execution_count": null,
   "metadata": {},
   "outputs": [],
   "source": [
    "input_gyro_mat = io.loadmat('../data/ArsGyro.mat')\n",
    "input_accel_mat = io.loadmat('../data/ArsAccel.mat')"
   ]
  },
  {
   "cell_type": "code",
   "execution_count": null,
   "metadata": {},
   "outputs": [],
   "source": [
    "def get_gyro(i):\n",
    "    \"\"\"Measure angular velocity using gyro.\"\"\"\n",
    "    p = input_gyro_mat['wx'][i][0]  # input_mat['wx']: (41500, 1)\n",
    "    q = input_gyro_mat['wy'][i][0]  # input_mat['wy']: (41500, 1)\n",
    "    r = input_gyro_mat['wz'][i][0]  # input_mat['wz']: (41500, 1)\n",
    "    return p, q, r"
   ]
  },
  {
   "cell_type": "code",
   "execution_count": null,
   "metadata": {},
   "outputs": [],
   "source": [
    "def get_accel(i):\n",
    "    \"\"\"Measure angular acceleration using accelerometer (G-meter).\"\"\"\n",
    "    ax = input_accel_mat['fx'][i][0]  # input_mat['fx']: (41500, 1)\n",
    "    ay = input_accel_mat['fy'][i][0]  # input_mat['fy']: (41500, 1)\n",
    "    az = input_accel_mat['fz'][i][0]  # input_mat['fz']: (41500, 1)\n",
    "    return ax, ay, az"
   ]
  },
  {
   "cell_type": "code",
   "execution_count": null,
   "metadata": {},
   "outputs": [],
   "source": [
    "def accel2euler(ax, ay, az, phi, the, psi):\n",
    "    \"\"\"Calculate Euler angle (Pose Orientation).\"\"\"\n",
    "    g = 9.8  # 9.8 [m/s^2]\n",
    "    cosThe = np.cos(the)\n",
    "    phi = np.arcsin(-ay / (g * cosThe))\n",
    "    the = np.arcsin(ax / g)\n",
    "    psi = psi\n",
    "    return phi, the, psi"
   ]
  },
  {
   "cell_type": "code",
   "execution_count": null,
   "metadata": {},
   "outputs": [],
   "source": [
    "def euler2quaternion(phi, the, psi):\n",
    "    \"\"\"Euler angle to Quaternion for state variables.\"\"\"\n",
    "    sinPhi = np.sin(phi/2)\n",
    "    cosPhi = np.cos(phi/2)\n",
    "    sinThe = np.sin(the/2)\n",
    "    cosThe = np.cos(the/2)\n",
    "    sinPsi = np.sin(psi/2)\n",
    "    cosPsi = np.cos(psi/2)\n",
    "\n",
    "    q = np.array([cosPhi * cosThe * cosPsi + sinPhi * sinThe * sinPsi,\n",
    "                  sinPhi * cosThe * cosPsi - cosPhi * sinThe * sinPsi,\n",
    "                  cosPhi * sinThe * cosPsi + sinPhi * cosThe * sinPsi,\n",
    "                  cosPhi * cosThe * sinPsi - sinPhi * sinThe * cosPsi])\n",
    "    return q"
   ]
  },
  {
   "cell_type": "code",
   "execution_count": null,
   "metadata": {},
   "outputs": [],
   "source": [
    "def quaternion2euler(q):\n",
    "    \"\"\"Quaternion to Euler angle for drawing.\"\"\"\n",
    "    phi_esti = np.arctan2(2 * (q[2]*q[3] + q[0]*q[1]), 1 - 2 * (q[1]**2 + q[2]**2))\n",
    "    the_esti = -np.arcsin(2 * (q[1]*q[3] - q[0]*q[2]))\n",
    "    psi_esti = np.arctan2(2 * (q[1]*q[2] + q[0]*q[3]), 1 - 2 * (q[2]**2 + q[3]**2))\n",
    "    return phi_esti, the_esti, psi_esti"
   ]
  },
  {
   "cell_type": "code",
   "execution_count": null,
   "metadata": {},
   "outputs": [],
   "source": [
    "def kalman_filter(z_meas, x_esti, P):\n",
    "    \"\"\"Kalman Filter Algorithm.\"\"\"\n",
    "    # (1) Prediction.\n",
    "    x_pred = A @ x_esti\n",
    "    P_pred = A @ P @ A.T + Q\n",
    "\n",
    "    # (2) Kalman Gain.\n",
    "    K = P_pred @ H.T @ inv(H @ P_pred @ H.T + R)\n",
    "\n",
    "    # (3) Estimation.\n",
    "    x_esti = x_pred + K @ (z_meas - H @ x_pred)\n",
    "\n",
    "    # (4) Error Covariance.\n",
    "    P = P_pred - K @ H @ P_pred\n",
    "\n",
    "    return x_esti, P"
   ]
  },
  {
   "cell_type": "code",
   "execution_count": null,
   "metadata": {},
   "outputs": [],
   "source": [
    "# Input parameters.\n",
    "n_samples = 41500\n",
    "dt = 0.01"
   ]
  },
  {
   "cell_type": "code",
   "execution_count": null,
   "metadata": {},
   "outputs": [],
   "source": [
    "# Initialization for system model.\n",
    "# Matrix: A, H, Q, R, P_0\n",
    "# Vector: x_0\n",
    "A = None\n",
    "H = np.eye(4)\n",
    "Q = 0.0001 * np.eye(4)\n",
    "R = 10 * np.eye(4)\n",
    "\n",
    "# Initialization for estimation.\n",
    "x_0 = np.array([1, 0, 0, 0])  # (q0, q1, q2, q3) by my definition.\n",
    "P_0 = np.eye(4)"
   ]
  },
  {
   "cell_type": "code",
   "execution_count": null,
   "metadata": {},
   "outputs": [],
   "source": [
    "time = np.arange(n_samples) * dt\n",
    "phi_esti_save = np.zeros(n_samples)\n",
    "the_esti_save = np.zeros(n_samples)\n",
    "psi_esti_save = np.zeros(n_samples)"
   ]
  },
  {
   "cell_type": "code",
   "execution_count": null,
   "metadata": {},
   "outputs": [],
   "source": [
    "phi, the, psi = 0, 0, 0\n",
    "x_esti, P = None, None\n",
    "for i in range(n_samples):\n",
    "    p, q, r = get_gyro(i)\n",
    "    A = np.eye(4) + dt / 2 * np.array([[0, -p, -q, -r],\n",
    "                                       [p,  0,  r, -q],\n",
    "                                       [q, -r,  0,  p],\n",
    "                                       [r,  q, -p,  0]])  \n",
    "    ax, ay, az = get_accel(i)\n",
    "    phi, the, psi = accel2euler(ax, ay, az, phi, the, psi)\n",
    "    z_meas = euler2quaternion(phi, the, psi)\n",
    "\n",
    "    if i == 0:\n",
    "        x_esti, P = x_0, P_0\n",
    "    else:\n",
    "        x_esti, P = kalman_filter(z_meas, x_esti, P)\n",
    "\n",
    "    phi_esti, the_esti, psi_esti = quaternion2euler(x_esti)\n",
    "\n",
    "    phi_esti_save[i] = np.rad2deg(phi_esti)\n",
    "    the_esti_save[i] = np.rad2deg(the_esti)\n",
    "    psi_esti_save[i] = np.rad2deg(psi_esti)"
   ]
  },
  {
   "cell_type": "code",
   "execution_count": null,
   "metadata": {},
   "outputs": [],
   "source": [
    "fig, axes = plt.subplots(nrows=3, ncols=1, figsize=(10, 20))\n",
    "\n",
    "plt.subplot(3, 1, 1)\n",
    "plt.plot(time, phi_esti_save, 'r', label='Roll ($\\\\phi$): Estimation (KF)', markersize=0.2)\n",
    "plt.legend(loc='lower right')\n",
    "plt.title('Roll ($\\\\phi$): Estimation (KF)')\n",
    "plt.xlabel('Time [sec]')\n",
    "plt.ylabel('Roll ($\\phi$) angle [deg]')\n",
    "\n",
    "plt.subplot(3, 1, 2)\n",
    "plt.plot(time, the_esti_save, 'b', label='Pitch ($\\\\theta$): Estimation (KF)', markersize=0.2)\n",
    "plt.legend(loc='lower right')\n",
    "plt.title('Pitch ($\\\\theta$): Estimation (KF)')\n",
    "plt.xlabel('Time [sec]')\n",
    "plt.ylabel('Pitch ($\\\\theta$) angle [deg]')\n",
    "\n",
    "plt.subplot(3, 1, 3)\n",
    "plt.plot(time, psi_esti_save, 'g', label='Yaw ($\\\\psi$): Estimation (KF)', markersize=0.2)\n",
    "plt.legend(loc='lower right')\n",
    "plt.title('Yaw ($\\\\psi$): Estimation (KF)')\n",
    "plt.xlabel('Time [sec]')\n",
    "plt.ylabel('Yaw ($\\\\psi$) angle [deg]')\n",
    "\n",
    "plt.savefig('png/pose_orientation_fusion_kf.png')"
   ]
  }
 ],
 "metadata": {
  "kernelspec": {
   "display_name": "Python 3",
   "language": "python",
   "name": "python3"
  },
  "language_info": {
   "codemirror_mode": {
    "name": "ipython",
    "version": 3
   },
   "file_extension": ".py",
   "mimetype": "text/x-python",
   "name": "python",
   "nbconvert_exporter": "python",
   "pygments_lexer": "ipython3",
   "version": "3.8.8"
  }
 },
 "nbformat": 4,
 "nbformat_minor": 2
}
