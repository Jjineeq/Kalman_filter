{
 "cells": [
  {
   "cell_type": "code",
   "execution_count": null,
   "metadata": {},
   "outputs": [],
   "source": [
    "import numpy as np\n",
    "import matplotlib.pyplot as plt\n",
    "from scipy import io"
   ]
  },
  {
   "cell_type": "code",
   "execution_count": null,
   "metadata": {},
   "outputs": [],
   "source": [
    "input_mat = io.loadmat('../data/ArsAccel.mat')"
   ]
  },
  {
   "cell_type": "code",
   "execution_count": null,
   "metadata": {},
   "outputs": [],
   "source": [
    "def get_accel(i):\n",
    "    \"\"\"Measure angular acceleration using accelerometer (G-meter).\"\"\"\n",
    "    ax = input_mat['fx'][i][0]  # input_mat['fx']: (41500, 1)\n",
    "    ay = input_mat['fy'][i][0]  # input_mat['fy']: (41500, 1)\n",
    "    az = input_mat['fz'][i][0]  # input_mat['fz']: (41500, 1)\n",
    "    return ax, ay, az"
   ]
  },
  {
   "cell_type": "code",
   "execution_count": null,
   "metadata": {},
   "outputs": [],
   "source": [
    "def accel2euler(ax, ay, az, phi, the, psi):\n",
    "    \"\"\"Calculate Euler angle (Pose Orientation).\"\"\"\n",
    "    g = 9.8  # 9.8 [m/s^2]\n",
    "    cosThe = np.cos(the)\n",
    "    phi = np.arcsin(-ay / (g * cosThe))\n",
    "    the = np.arcsin(ax / g)\n",
    "    psi = psi\n",
    "    return phi, the, psi"
   ]
  },
  {
   "cell_type": "code",
   "execution_count": null,
   "metadata": {},
   "outputs": [],
   "source": [
    "# Input parameters.\n",
    "n_samples = 41500\n",
    "dt = 0.01"
   ]
  },
  {
   "cell_type": "code",
   "execution_count": null,
   "metadata": {},
   "outputs": [],
   "source": [
    "time = np.arange(n_samples) * dt\n",
    "phi_save = np.zeros(n_samples)\n",
    "the_save = np.zeros(n_samples)\n",
    "psi_save = np.zeros(n_samples)"
   ]
  },
  {
   "cell_type": "code",
   "execution_count": null,
   "metadata": {},
   "outputs": [],
   "source": [
    "phi, the, psi = 0, 0, 0\n",
    "for i in range(n_samples):\n",
    "    ax, ay, az = get_accel(i)\n",
    "    phi, the, psi = accel2euler(ax, ay, az, phi, the, psi)    \n",
    "    phi_save[i] = np.rad2deg(phi)\n",
    "    the_save[i] = np.rad2deg(the)\n",
    "    psi_save[i] = np.rad2deg(psi)"
   ]
  },
  {
   "cell_type": "code",
   "execution_count": null,
   "metadata": {},
   "outputs": [],
   "source": [
    "fig, axes = plt.subplots(nrows=3, ncols=1, figsize=(10, 20))\n",
    "\n",
    "plt.subplot(3, 1, 1)\n",
    "plt.plot(time, phi_save, 'r', label='Roll ($\\\\phi$)', markersize=0.2)\n",
    "plt.legend(loc='lower right')\n",
    "plt.title('Roll ($\\\\phi$)')\n",
    "plt.xlabel('Time [sec]')\n",
    "plt.ylabel('Roll ($\\phi$) angle [deg]')\n",
    "\n",
    "plt.subplot(3, 1, 2)\n",
    "plt.plot(time, the_save, 'b', label='Pitch ($\\\\theta$)', markersize=0.2)\n",
    "plt.legend(loc='lower right')\n",
    "plt.title('Pitch ($\\\\theta$)')\n",
    "plt.xlabel('Time [sec]')\n",
    "plt.ylabel('Pitch ($\\\\theta$) angle [deg]')\n",
    "\n",
    "plt.subplot(3, 1, 3)\n",
    "plt.plot(time, psi_save, 'g', label='Yaw ($\\\\psi$)', markersize=0.2)\n",
    "plt.legend(loc='lower right')\n",
    "plt.title('Yaw ($\\\\psi$)')\n",
    "plt.xlabel('Time [sec]')\n",
    "plt.ylabel('Yaw ($\\\\psi$) angle [deg]')\n",
    "\n",
    "plt.savefig('png/pose_orientation_accel.png')"
   ]
  }
 ],
 "metadata": {
  "kernelspec": {
   "display_name": "Python 3",
   "language": "python",
   "name": "python3"
  },
  "language_info": {
   "codemirror_mode": {
    "name": "ipython",
    "version": 3
   },
   "file_extension": ".py",
   "mimetype": "text/x-python",
   "name": "python",
   "nbconvert_exporter": "python",
   "pygments_lexer": "ipython3",
   "version": "3.8.8"
  }
 },
 "nbformat": 4,
 "nbformat_minor": 2
}
