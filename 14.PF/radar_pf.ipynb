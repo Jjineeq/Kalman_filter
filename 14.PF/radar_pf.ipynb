{
 "cells": [
  {
   "cell_type": "code",
   "execution_count": null,
   "metadata": {},
   "outputs": [],
   "source": [
    "import numpy as np\n",
    "import matplotlib.pyplot as plt\n",
    "from numpy.linalg import inv\n",
    "from scipy.stats import norm\n",
    "\n",
    "np.random.seed(0)"
   ]
  },
  {
   "cell_type": "code",
   "execution_count": null,
   "metadata": {},
   "outputs": [],
   "source": [
    "def get_radar(xpos_pred):\n",
    "    \"\"\"Return Predicted Horizontal Distance and Measured Distance by Radar.\"\"\"\n",
    "    xvel_w = np.random.normal(0, 5)   # xvel_w: system noise of horizontal velocity [m/s].\n",
    "    xvel_true = 100 + xvel_w          # xvel_true: true horizontal velocity [m/s].\n",
    "\n",
    "    ypos_w = np.random.normal(0, 10)  # ypos_w: system noise of vertical position [m].\n",
    "    ypos_true = 1000 + ypos_w         # ypos_true: true vertical position [m].\n",
    "\n",
    "    xpos_pred = xpos_pred + xvel_true * dt                     # xpos_pred: predicted horizontal distance [m].\n",
    "\n",
    "    rpos_v = xpos_pred * np.random.normal(0, 0.05)             # rpos_v: measurment noise of distance from radar.\n",
    "    rpos_meas = np.sqrt(xpos_pred**2 + ypos_true**2) + rpos_v  # r: measured distance [m] (observable).\n",
    "\n",
    "    return rpos_meas, xpos_pred"
   ]
  },
  {
   "cell_type": "code",
   "execution_count": null,
   "metadata": {},
   "outputs": [],
   "source": [
    "def fx(x_esti):\n",
    "    return A @ x_esti\n",
    "\n",
    "def hx(x_pred):\n",
    "    z_pred = np.sqrt(x_pred[0]**2 + x_pred[2]**2)\n",
    "    return np.array([z_pred])"
   ]
  },
  {
   "cell_type": "code",
   "execution_count": null,
   "metadata": {},
   "outputs": [],
   "source": [
    "def particle_filter(z_meas, pt, wt):\n",
    "    \"\"\"Particle Filter Algorithm.\n",
    "        - norm.pdf(x, mu, sigma):\n",
    "            the pdf of the normal distribution with mean mu\n",
    "            and standard deviation sigma, evaluated at the values x.\n",
    "    \"\"\"\n",
    "    # (1) Predict Particles.\n",
    "    pt = fx(pt) + np.random.randn(*pt.shape)\n",
    "\n",
    "    # (2) Update Weights.\n",
    "    wt = wt*norm.pdf(z_meas, hx(pt), 10)\n",
    "    wt = wt / np.sum(wt)\n",
    "\n",
    "    # (3) Estimate States.\n",
    "    x_esti = pt @ wt.T\n",
    "\n",
    "    # (4) Resample Particles using Sequential Importance Resampling (SIR).\n",
    "    Npt = pt.shape[1]\n",
    "    inds = np.random.choice(Npt, Npt, p=wt[0], replace=True)\n",
    "    pt = pt[:, inds]\n",
    "    wt = np.ones((1, Npt)) / Npt\n",
    "\n",
    "    return x_esti, pt, wt"
   ]
  },
  {
   "cell_type": "code",
   "execution_count": null,
   "metadata": {},
   "outputs": [],
   "source": [
    "# Input parameters.\n",
    "time_end = 20\n",
    "dt = 0.05"
   ]
  },
  {
   "cell_type": "code",
   "execution_count": null,
   "metadata": {},
   "outputs": [],
   "source": [
    "# Initialization for system model.\n",
    "# Matrix: A, H, Q, R, P_0\n",
    "# Vector: x_0\n",
    "A = np.eye(3) + dt * np.array([[0, 1, 0],\n",
    "                               [0, 0, 0],\n",
    "                               [0, 0, 0]])\n",
    "# Initialization for estimation.\n",
    "x_0 = np.array([0, 90, 1100])  # [horizontal position, horizontal velocity, vertical position].\n",
    "\n",
    "# Initialization for particles.\n",
    "Npt = 1000"
   ]
  },
  {
   "cell_type": "code",
   "execution_count": null,
   "metadata": {},
   "outputs": [],
   "source": [
    "time = np.arange(0, time_end, dt)\n",
    "n_samples = len(time)\n",
    "xpos_esti_save = np.zeros(n_samples)\n",
    "ypos_esti_save = np.zeros(n_samples)\n",
    "rpos_esti_save = np.zeros(n_samples)\n",
    "xvel_esti_save = np.zeros(n_samples)\n",
    "rpos_meas_save = np.zeros(n_samples)"
   ]
  },
  {
   "cell_type": "code",
   "execution_count": null,
   "metadata": {},
   "outputs": [],
   "source": [
    "xpos_pred = 0\n",
    "x_esti, pt, wt = None, None, None\n",
    "for i in range(n_samples):\n",
    "    z_meas, xpos_pred = get_radar(xpos_pred)\n",
    "    if i == 0:\n",
    "        x_esti = x_0\n",
    "        pt     = x_0.reshape(-1, 1) + 0.1 * x_0.reshape(-1, 1) * np.random.randn(1, Npt)\n",
    "        wt     = np.ones((1, Npt)) / Npt\n",
    "    else:\n",
    "        x_esti, pt, wt = particle_filter(z_meas, pt, wt)\n",
    "        \n",
    "    xpos_esti_save[i] = x_esti[0]\n",
    "    ypos_esti_save[i] = x_esti[2]\n",
    "    rpos_esti_save[i] = np.sqrt(x_esti[0]**2 + x_esti[2]**2)\n",
    "    xvel_esti_save[i] = x_esti[1]\n",
    "    rpos_meas_save[i] = z_meas"
   ]
  },
  {
   "cell_type": "code",
   "execution_count": null,
   "metadata": {},
   "outputs": [],
   "source": [
    "fig, axes = plt.subplots(nrows=2, ncols=2, figsize=(15, 12))\n",
    "\n",
    "axes[0, 0].plot(time, xpos_esti_save, 'bo-', label='Estimation (PF)')\n",
    "axes[0, 0].legend(loc='upper left')\n",
    "axes[0, 0].set_title('Horizontal Distance: Esti. (PF)')\n",
    "axes[0, 0].set_xlabel('Time [sec]')\n",
    "axes[0, 0].set_ylabel('Horizontal Distance [m]')\n",
    "\n",
    "axes[0, 1].plot(time, ypos_esti_save, 'bo-', label='Estimation (PF)')\n",
    "axes[0, 1].legend(loc='upper left')\n",
    "axes[0, 1].set_title('Vertical Distance: Esti. (PF)')\n",
    "axes[0, 1].set_xlabel('Time [sec]')\n",
    "axes[0, 1].set_ylabel('Vertical Distance [m]')\n",
    "\n",
    "axes[1, 0].plot(time, rpos_meas_save, 'r*--', label='Measurements', markersize=10)\n",
    "axes[1, 0].plot(time, rpos_esti_save, 'bo-', label='Estimation (PF)')\n",
    "axes[1, 0].legend(loc='upper left')\n",
    "axes[1, 0].set_title('Radar Distance: Meas. v.s. Esti. (PF)')\n",
    "axes[1, 0].set_xlabel('Time [sec]')\n",
    "axes[1, 0].set_ylabel('Radar Distance [m]')\n",
    "\n",
    "axes[1, 1].plot(time, xvel_esti_save, 'bo-', label='Estimation (PF)')\n",
    "axes[1, 1].legend(loc='upper left')\n",
    "axes[1, 1].set_title('Horizontal Velocity: Esti. (PF)')\n",
    "axes[1, 1].set_xlabel('Time [sec]')\n",
    "axes[1, 1].set_ylabel('Horizontal Velocity [m/s]')\n",
    "\n",
    "plt.savefig('png/radar_pf.png')"
   ]
  }
 ],
 "metadata": {
  "kernelspec": {
   "display_name": "Python 3",
   "language": "python",
   "name": "python3"
  },
  "language_info": {
   "codemirror_mode": {
    "name": "ipython",
    "version": 3
   },
   "file_extension": ".py",
   "mimetype": "text/x-python",
   "name": "python",
   "nbconvert_exporter": "python",
   "pygments_lexer": "ipython3",
   "version": "3.8.8"
  }
 },
 "nbformat": 4,
 "nbformat_minor": 2
}
