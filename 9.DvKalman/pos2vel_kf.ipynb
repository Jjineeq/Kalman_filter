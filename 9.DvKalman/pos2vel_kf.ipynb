{
 "cells": [
  {
   "cell_type": "code",
   "execution_count": null,
   "metadata": {},
   "outputs": [],
   "source": [
    "import numpy as np\n",
    "import matplotlib.pyplot as plt\n",
    "from numpy.linalg import inv\n",
    "\n",
    "np.random.seed(0)"
   ]
  },
  {
   "cell_type": "code",
   "execution_count": null,
   "metadata": {},
   "outputs": [],
   "source": [
    "def get_pos_vel(itime, pos_true):\n",
    "    \"\"\"Return Measured Position, True Velocity and True Position.\"\"\"\n",
    "    w = np.random.normal(0, np.sqrt(10))      # w: system noise.\n",
    "    v = np.random.normal(0, np.sqrt(10))      # v: measurement noise.\n",
    "\n",
    "    vel_true = 80 + w                         # nominal velocity = 80 [m/s].\n",
    "    if itime == 0:\n",
    "        pos_true = pos_true\n",
    "    else:\n",
    "        pos_true = pos_true + vel_true * dt\n",
    "    z_pos_meas = pos_true + v                 # z_pos_meas: measured position (observable)\n",
    "    return z_pos_meas, vel_true, pos_true"
   ]
  },
  {
   "cell_type": "code",
   "execution_count": null,
   "metadata": {},
   "outputs": [],
   "source": [
    "def kalman_filter(z_meas, x_esti, P):\n",
    "    \"\"\"Kalman Filter Algorithm.\"\"\"\n",
    "    # (1) Prediction.\n",
    "    x_pred = A @ x_esti\n",
    "    P_pred = A @ P @ A.T + Q\n",
    "\n",
    "    # (2) Kalman Gain.\n",
    "    K = P_pred @ H.T @ inv(H @ P_pred @ H.T + R)\n",
    "\n",
    "    # (3) Estimation.\n",
    "    x_esti = x_pred + K @ (z_meas - H @ x_pred)\n",
    "\n",
    "    # (4) Error Covariance.\n",
    "    P = P_pred - K @ H @ P_pred\n",
    "\n",
    "    return x_esti, P"
   ]
  },
  {
   "cell_type": "code",
   "execution_count": null,
   "metadata": {},
   "outputs": [],
   "source": [
    "# Input parameters.\n",
    "time_end = 4\n",
    "dt= 0.1"
   ]
  },
  {
   "cell_type": "code",
   "execution_count": null,
   "metadata": {},
   "outputs": [],
   "source": [
    "# Initialization for system model.\n",
    "# Matrix: A, H, Q, R, P_0\n",
    "# Vector: x_0\n",
    "A = np.array([[1, dt],\n",
    "              [0, 1]])\n",
    "H = np.array([[1, 0]])\n",
    "Q = np.array([[1, 0],\n",
    "              [0, 3]])\n",
    "R = np.array([[10]])\n",
    "\n",
    "# Initialization for estimation.\n",
    "x_0 = np.array([0, 20])  # position and velocity\n",
    "P_0 = 5 * np.eye(2)"
   ]
  },
  {
   "cell_type": "code",
   "execution_count": null,
   "metadata": {},
   "outputs": [],
   "source": [
    "time = np.arange(0, time_end, dt)\n",
    "n_samples = len(time)\n",
    "pos_meas_save = np.zeros(n_samples)\n",
    "vel_true_save = np.zeros(n_samples)\n",
    "pos_esti_save = np.zeros(n_samples)\n",
    "vel_esti_save = np.zeros(n_samples)"
   ]
  },
  {
   "cell_type": "code",
   "execution_count": null,
   "metadata": {},
   "outputs": [],
   "source": [
    "pos_true = 0\n",
    "x_esti, P = None, None\n",
    "for i in range(n_samples):\n",
    "    z_meas, vel_true, pos_true = get_pos_vel(i, pos_true)\n",
    "    if i == 0:\n",
    "        x_esti, P = x_0, P_0\n",
    "    else:\n",
    "        x_esti, P = kalman_filter(z_meas, x_esti, P)\n",
    "\n",
    "    pos_meas_save[i] = z_meas\n",
    "    vel_true_save[i] = vel_true\n",
    "    pos_esti_save[i] = x_esti[0]\n",
    "    vel_esti_save[i] = x_esti[1]"
   ]
  },
  {
   "cell_type": "code",
   "execution_count": null,
   "metadata": {},
   "outputs": [],
   "source": [
    "fig, axes = plt.subplots(nrows=1, ncols=2, figsize=(10, 5))\n",
    "\n",
    "plt.subplot(1, 2, 1)\n",
    "plt.plot(time, pos_meas_save, 'r*--', label='Measurements', markersize=10)\n",
    "plt.plot(time, pos_esti_save, 'bo-', label='Estimation (KF)')\n",
    "plt.legend(loc='upper left')\n",
    "plt.title('Position: Meas. v.s. Esti. (KF)')\n",
    "plt.xlabel('Time [sec]')\n",
    "plt.ylabel('Position [m]')\n",
    "\n",
    "plt.subplot(1, 2, 2)\n",
    "plt.plot(time, vel_true_save, 'g*--', label='True', markersize=10)\n",
    "plt.plot(time, vel_esti_save, 'bo-', label='Estimation (KF)')\n",
    "plt.legend(loc='lower right')\n",
    "plt.title('Velocity: True v.s. Esti. (KF)')\n",
    "plt.xlabel('Time [sec]')\n",
    "plt.ylabel('Velocity [m/s]')\n",
    "plt.savefig('png/pos2vel_kf.png')"
   ]
  }
 ],
 "metadata": {
  "kernelspec": {
   "display_name": "Python 3",
   "language": "python",
   "name": "python3"
  },
  "language_info": {
   "codemirror_mode": {
    "name": "ipython",
    "version": 3
   },
   "file_extension": ".py",
   "mimetype": "text/x-python",
   "name": "python",
   "nbconvert_exporter": "python",
   "pygments_lexer": "ipython3",
   "version": "3.8.8"
  }
 },
 "nbformat": 4,
 "nbformat_minor": 2
}
