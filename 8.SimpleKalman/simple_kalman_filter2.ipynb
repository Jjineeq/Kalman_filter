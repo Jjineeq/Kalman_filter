{
 "cells": [
  {
   "cell_type": "code",
   "execution_count": null,
   "metadata": {},
   "outputs": [],
   "source": [
    "import numpy as np\n",
    "import matplotlib.pyplot as plt\n",
    "\n",
    "np.random.seed(0)"
   ]
  },
  {
   "cell_type": "code",
   "execution_count": null,
   "metadata": {},
   "outputs": [],
   "source": [
    "def get_volt():\n",
    "    \"\"\"Measure voltage.\"\"\"\n",
    "    v = np.random.normal(0, 2)   # v: measurement noise.\n",
    "    volt_true = 14.4             # volt_true: True voltage [V].\n",
    "    z_volt_meas = volt_true + v  # z_volt_meas: Measured Voltage [V] (observable).\n",
    "    return z_volt_meas"
   ]
  },
  {
   "cell_type": "code",
   "execution_count": null,
   "metadata": {},
   "outputs": [],
   "source": [
    "def kalman_filter(z_meas, x_esti, P):\n",
    "    \"\"\"Kalman Filter Algorithm for One Variable.\n",
    "       Return Kalman Gain for Drawing.\n",
    "    \"\"\"\n",
    "    # (1) Prediction.\n",
    "    x_pred = A * x_esti\n",
    "    P_pred = A * P * A + Q\n",
    "\n",
    "    # (2) Kalman Gain.\n",
    "    K = P_pred * H / (H * P_pred * H + R)\n",
    "\n",
    "    # (3) Estimation.\n",
    "    x_esti = x_pred + K * (z_meas - H * x_pred)\n",
    "\n",
    "    # (4) Error Covariance.\n",
    "    P = P_pred - K * H * P_pred\n",
    "\n",
    "    return x_esti, P, K"
   ]
  },
  {
   "cell_type": "code",
   "execution_count": null,
   "metadata": {},
   "outputs": [],
   "source": [
    "# Input parameters.\n",
    "time_end = 10\n",
    "dt = 0.2"
   ]
  },
  {
   "cell_type": "code",
   "execution_count": null,
   "metadata": {},
   "outputs": [],
   "source": [
    "# Initialization for system model.\n",
    "A = 1\n",
    "H = 1\n",
    "Q = 0\n",
    "R = 4\n",
    "# Initialization for estimation.\n",
    "x_0 = 12  # 14 for book.\n",
    "P_0 = 6\n",
    "K_0 = 1"
   ]
  },
  {
   "cell_type": "code",
   "execution_count": null,
   "metadata": {},
   "outputs": [],
   "source": [
    "time = np.arange(0, time_end, dt)\n",
    "n_samples = len(time)\n",
    "volt_meas_save = np.zeros(n_samples)\n",
    "volt_esti_save = np.zeros(n_samples)\n",
    "P_save = np.zeros(n_samples)\n",
    "K_save = np.zeros(n_samples)"
   ]
  },
  {
   "cell_type": "code",
   "execution_count": null,
   "metadata": {},
   "outputs": [],
   "source": [
    "x_esti, P, K = None, None, None\n",
    "for i in range(n_samples):\n",
    "    z_meas = get_volt()\n",
    "    if i == 0:\n",
    "        x_esti, P, K = x_0, P_0, K_0\n",
    "    else:\n",
    "        x_esti, P, K = kalman_filter(z_meas, x_esti, P)\n",
    "\n",
    "    volt_meas_save[i] = z_meas\n",
    "    volt_esti_save[i] = x_esti\n",
    "    P_save[i] = P\n",
    "    K_save[i] = K"
   ]
  },
  {
   "cell_type": "code",
   "execution_count": null,
   "metadata": {},
   "outputs": [],
   "source": [
    "fig, axes = plt.subplots(nrows=1, ncols=3, figsize=(25,10))\n",
    "\n",
    "plt.subplot(1, 3, 1)\n",
    "plt.plot(time, volt_meas_save, 'r*--', label='Measurements', markersize=15)\n",
    "plt.plot(time, volt_esti_save, 'bo-', label='Kalman Filter', markersize=15)\n",
    "plt.legend(loc='upper left', fontsize=20)\n",
    "plt.title('Measurements v.s. Estimation (Kalman Filter)', fontsize=20)\n",
    "plt.xlabel('Time [sec]', fontsize=25)\n",
    "plt.ylabel('Voltage [V]', fontsize=25)\n",
    "\n",
    "plt.subplot(1, 3, 2)\n",
    "plt.plot(time, P_save, 'go-', markersize=15)\n",
    "plt.title('Error Covariance (Kalman Filter)', fontsize=20)\n",
    "plt.xlabel('Time [sec]', fontsize=25)\n",
    "plt.ylabel('Error Covariance (P)', fontsize=25)\n",
    "\n",
    "plt.subplot(1, 3, 3)\n",
    "plt.plot(time, K_save, 'ko-', markersize=15)\n",
    "plt.title('Kalman Gain (Kalman Filter)', fontsize=20)\n",
    "plt.xlabel('Time [sec]', fontsize=25)\n",
    "plt.ylabel('Kalman Gain (K)', fontsize=25)\n",
    "plt.savefig('png/simple_kalman_filter2.png')"
   ]
  }
 ],
 "metadata": {
  "kernelspec": {
   "display_name": "Python 3",
   "language": "python",
   "name": "python3"
  },
  "language_info": {
   "codemirror_mode": {
    "name": "ipython",
    "version": 3
   },
   "file_extension": ".py",
   "mimetype": "text/x-python",
   "name": "python",
   "nbconvert_exporter": "python",
   "pygments_lexer": "ipython3",
   "version": "3.8.8"
  }
 },
 "nbformat": 4,
 "nbformat_minor": 2
}
