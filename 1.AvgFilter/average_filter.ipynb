{
 "cells": [
  {
   "cell_type": "code",
   "execution_count": null,
   "metadata": {},
   "outputs": [],
   "source": [
    "import numpy as np\n",
    "import matplotlib.pyplot as plt\n",
    "\n",
    "np.random.seed(0)"
   ]
  },
  {
   "cell_type": "code",
   "execution_count": null,
   "metadata": {},
   "outputs": [],
   "source": [
    "def get_volt():\n",
    "    \"\"\"Measure voltage.\"\"\"\n",
    "    v = np.random.normal(0, 4)  # v: measurement noise.\n",
    "    volt_mean = 14.4            # volt_mean: mean (nominal) voltage [V].\n",
    "    volt_meas = volt_mean + v   # volt_meas: measured voltage [V] (observable).\n",
    "    return volt_meas"
   ]
  },
  {
   "cell_type": "code",
   "execution_count": null,
   "metadata": {},
   "outputs": [],
   "source": [
    "def avg_filter(k, x_meas, x_avg):\n",
    "    \"\"\"Calculate average voltage using a average filter.\"\"\"\n",
    "    alpha = (k - 1) / k\n",
    "    x_avg = alpha * x_avg + (1 - alpha) * x_meas\n",
    "    return x_avg"
   ]
  },
  {
   "cell_type": "code",
   "execution_count": null,
   "metadata": {},
   "outputs": [],
   "source": [
    "# Input parameters.\n",
    "time_end = 10\n",
    "dt = 0.2"
   ]
  },
  {
   "cell_type": "code",
   "execution_count": null,
   "metadata": {},
   "outputs": [],
   "source": [
    "time = np.arange(0, time_end, dt)\n",
    "n_samples = len(time)\n",
    "x_meas_save = np.zeros(n_samples)\n",
    "x_avg_save = np.zeros(n_samples)"
   ]
  },
  {
   "cell_type": "code",
   "execution_count": null,
   "metadata": {},
   "outputs": [],
   "source": [
    "x_avg = 0\n",
    "for i in range(n_samples):\n",
    "    k = i + 1\n",
    "    x_meas = get_volt()\n",
    "    x_avg = avg_filter(k, x_meas, x_avg)\n",
    "\n",
    "    x_meas_save[i] = x_meas\n",
    "    x_avg_save[i] = x_avg"
   ]
  },
  {
   "cell_type": "code",
   "execution_count": null,
   "metadata": {},
   "outputs": [],
   "source": [
    "plt.plot(time, x_meas_save, 'r*', label='Measured')\n",
    "plt.plot(time, x_avg_save, 'b-', label='Average')\n",
    "plt.legend(loc='upper left')\n",
    "plt.title('Measured Voltages v.s. Average Filter Values')\n",
    "plt.xlabel('Time [sec]')\n",
    "plt.ylabel('Volt [V]')\n",
    "plt.savefig('png/average_filter.png')"
   ]
  }
 ],
 "metadata": {
  "kernelspec": {
   "display_name": "Python 3",
   "language": "python",
   "name": "python3"
  },
  "language_info": {
   "codemirror_mode": {
    "name": "ipython",
    "version": 3
   },
   "file_extension": ".py",
   "mimetype": "text/x-python",
   "name": "python",
   "nbconvert_exporter": "python",
   "pygments_lexer": "ipython3",
   "version": "3.8.8"
  }
 },
 "nbformat": 4,
 "nbformat_minor": 2
}
