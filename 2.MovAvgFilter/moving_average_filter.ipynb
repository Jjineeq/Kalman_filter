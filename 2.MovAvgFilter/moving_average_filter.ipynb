{
 "cells": [
  {
   "cell_type": "code",
   "execution_count": null,
   "metadata": {},
   "outputs": [],
   "source": [
    "import numpy as np\n",
    "import matplotlib.pyplot as plt\n",
    "from scipy import io"
   ]
  },
  {
   "cell_type": "code",
   "execution_count": null,
   "metadata": {},
   "outputs": [],
   "source": [
    "input_mat = io.loadmat('../data/SonarAlt.mat')"
   ]
  },
  {
   "cell_type": "code",
   "execution_count": null,
   "metadata": {},
   "outputs": [],
   "source": [
    "def get_sonar(i):\n",
    "    \"\"\"Measure sonar.\"\"\"\n",
    "    z = input_mat['sonarAlt'][0][i]  # input_mat['sonaralt']: (1, 1501)\n",
    "    return z"
   ]
  },
  {
   "cell_type": "code",
   "execution_count": null,
   "metadata": {},
   "outputs": [],
   "source": [
    "def mov_avg_filter(x_n, x_meas):\n",
    "    \"\"\"Calculate average sonar using a moving average filter (batch expression).\"\"\"\n",
    "    n = len(x_n)\n",
    "    for i in range(n-1):\n",
    "        x_n[i] = x_n[i+1]\n",
    "    x_n[n-1] = x_meas\n",
    "    x_avg = np.mean(x_n)\n",
    "    return x_avg, x_n"
   ]
  },
  {
   "cell_type": "code",
   "execution_count": null,
   "metadata": {},
   "outputs": [],
   "source": [
    "# Input parameters.\n",
    "n = 10\n",
    "n_samples = 500\n",
    "time_end = 10"
   ]
  },
  {
   "cell_type": "code",
   "execution_count": null,
   "metadata": {},
   "outputs": [],
   "source": [
    "dt = time_end / n_samples\n",
    "time = np.arange(0, time_end, dt)\n",
    "x_meas_save = np.zeros(n_samples)\n",
    "x_avg_save = np.zeros(n_samples)"
   ]
  },
  {
   "cell_type": "code",
   "execution_count": null,
   "metadata": {},
   "outputs": [],
   "source": [
    "for i in range(n_samples):\n",
    "    x_meas = get_sonar(i)\n",
    "    if i == 0:\n",
    "        x_avg, x_n = x_meas, x_meas * np.ones(n)\n",
    "    else:\n",
    "        x_avg, x_n = mov_avg_filter(x_n, x_meas)\n",
    "\n",
    "    x_meas_save[i] = x_meas\n",
    "    x_avg_save[i] = x_avg"
   ]
  },
  {
   "cell_type": "code",
   "execution_count": null,
   "metadata": {},
   "outputs": [],
   "source": [
    "plt.plot(time, x_meas_save, 'r*', label='Measured')\n",
    "plt.plot(time, x_avg_save, 'b-', label='Moving average')\n",
    "plt.legend(loc='upper left')\n",
    "plt.title('Measured Altitudes v.s. Moving Average Filter Values')\n",
    "plt.xlabel('Time [sec]')\n",
    "plt.ylabel('Altitude [m]')\n",
    "plt.savefig('png/moving_average_filter.png')"
   ]
  }
 ],
 "metadata": {
  "kernelspec": {
   "display_name": "Python 3",
   "language": "python",
   "name": "python3"
  },
  "language_info": {
   "codemirror_mode": {
    "name": "ipython",
    "version": 3
   },
   "file_extension": ".py",
   "mimetype": "text/x-python",
   "name": "python",
   "nbconvert_exporter": "python",
   "pygments_lexer": "ipython3",
   "version": "3.8.8"
  }
 },
 "nbformat": 4,
 "nbformat_minor": 2
}
