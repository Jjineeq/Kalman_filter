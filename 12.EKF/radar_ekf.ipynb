{
 "cells": [
  {
   "cell_type": "code",
   "execution_count": null,
   "metadata": {},
   "outputs": [],
   "source": [
    "import numpy as np\n",
    "import matplotlib.pyplot as plt\n",
    "from numpy.linalg import inv\n",
    "\n",
    "np.random.seed(0)"
   ]
  },
  {
   "cell_type": "code",
   "execution_count": null,
   "metadata": {},
   "outputs": [],
   "source": [
    "def get_radar(xpos_pred):\n",
    "    \"\"\"Return Predicted Horizontal Distance and Measured Distance by Radar.\"\"\"\n",
    "    xvel_w = np.random.normal(0, 5)   # xvel_w: system noise of horizontal velocity [m/s].\n",
    "    xvel_true = 100 + xvel_w          # xvel_true: true horizontal velocity [m/s].\n",
    "\n",
    "    ypos_w = np.random.normal(0, 10)  # ypos_w: system noise of vertical position [m].\n",
    "    ypos_true = 1000 + ypos_w         # ypos_true: true vertical position [m].\n",
    "\n",
    "    xpos_pred = xpos_pred + xvel_true * dt                     # xpos_pred: predicted horizontal distance [m].\n",
    "\n",
    "    rpos_v = xpos_pred * np.random.normal(0, 0.05)             # rpos_v: measurment noise of distance from radar.\n",
    "    rpos_meas = np.sqrt(xpos_pred**2 + ypos_true**2) + rpos_v  # r: measured distance [m] (observable).\n",
    "\n",
    "    return rpos_meas, xpos_pred"
   ]
  },
  {
   "cell_type": "code",
   "execution_count": null,
   "metadata": {},
   "outputs": [],
   "source": [
    "def Ajacob_at(x_esti):\n",
    "    return A\n",
    "\n",
    "def Hjacob_at(x_pred):\n",
    "    H[0][0] = x_pred[0] / np.sqrt(x_pred[0]**2 + x_pred[2]**2)\n",
    "    H[0][1] = 0\n",
    "    H[0][2] = x_pred[2] / np.sqrt(x_pred[0]**2 + x_pred[2]**2)\n",
    "    return H"
   ]
  },
  {
   "cell_type": "code",
   "execution_count": null,
   "metadata": {},
   "outputs": [],
   "source": [
    "def fx(x_esti):\n",
    "    return A @ x_esti\n",
    "\n",
    "def hx(x_pred):\n",
    "    z_pred = np.sqrt(x_pred[0]**2 + x_pred[2]**2)\n",
    "    return np.array([z_pred])"
   ]
  },
  {
   "cell_type": "code",
   "execution_count": null,
   "metadata": {},
   "outputs": [],
   "source": [
    "def extended_kalman_filter(z_meas, x_esti, P):\n",
    "    \"\"\"Extended Kalman Filter Algorithm.\"\"\"\n",
    "    # (1) Prediction.\n",
    "    A = Ajacob_at(x_esti)\n",
    "    x_pred = fx(x_esti)\n",
    "    P_pred = A @ P @ A.T + Q\n",
    "\n",
    "    # (2) Kalman Gain.\n",
    "    H = Hjacob_at(x_pred)\n",
    "    K = P_pred @ H.T @ inv(H @ P_pred @ H.T + R)\n",
    "\n",
    "    # (3) Estimation.\n",
    "    x_esti = x_pred + K @ (z_meas - hx(x_pred))\n",
    "\n",
    "    # (4) Error Covariance.\n",
    "    P = P_pred - K @ H @ P_pred\n",
    "\n",
    "    return x_esti, P"
   ]
  },
  {
   "cell_type": "code",
   "execution_count": null,
   "metadata": {},
   "outputs": [],
   "source": [
    "# Input parameters.\n",
    "time_end = 20\n",
    "dt = 0.05"
   ]
  },
  {
   "cell_type": "code",
   "execution_count": null,
   "metadata": {},
   "outputs": [],
   "source": [
    "# Initialization for system model.\n",
    "# Matrix: A, H, Q, R, P_0\n",
    "# Vector: x_0\n",
    "A = np.eye(3) + dt * np.array([[0, 1, 0],\n",
    "                               [0, 0, 0],\n",
    "                               [0, 0, 0]])\n",
    "H = np.zeros((1, 3))\n",
    "Q = np.array([[0, 0, 0],\n",
    "              [0, 0.001, 0],\n",
    "              [0, 0, 0.001]])\n",
    "R = np.array([[10]])\n",
    "\n",
    "# Initialization for estimation.\n",
    "x_0 = np.array([0, 90, 1100])  # [horizontal position, horizontal velocity, vertical position].\n",
    "P_0 = 10 * np.eye(3)"
   ]
  },
  {
   "cell_type": "code",
   "execution_count": null,
   "metadata": {},
   "outputs": [],
   "source": [
    "time = np.arange(0, time_end, dt)\n",
    "n_samples = len(time)\n",
    "xpos_esti_save = np.zeros(n_samples)\n",
    "ypos_esti_save = np.zeros(n_samples)\n",
    "rpos_esti_save = np.zeros(n_samples)\n",
    "xvel_esti_save = np.zeros(n_samples)\n",
    "rpos_meas_save = np.zeros(n_samples)"
   ]
  },
  {
   "cell_type": "code",
   "execution_count": null,
   "metadata": {},
   "outputs": [],
   "source": [
    "xpos_pred = 0\n",
    "x_esti, P = None, None\n",
    "for i in range(n_samples):\n",
    "    z_meas, xpos_pred = get_radar(xpos_pred)\n",
    "    if i == 0:\n",
    "        x_esti, P = x_0, P_0\n",
    "    else:\n",
    "        x_esti, P = extended_kalman_filter(z_meas, x_esti, P)\n",
    "\n",
    "    xpos_esti_save[i] = x_esti[0]\n",
    "    ypos_esti_save[i] = x_esti[2]\n",
    "    rpos_esti_save[i] = np.sqrt(x_esti[0]**2 + x_esti[2]**2)\n",
    "    xvel_esti_save[i] = x_esti[1]\n",
    "    rpos_meas_save[i] = z_meas"
   ]
  },
  {
   "cell_type": "code",
   "execution_count": null,
   "metadata": {},
   "outputs": [],
   "source": [
    "fig, axes = plt.subplots(nrows=2, ncols=2, figsize=(15, 12))\n",
    "\n",
    "axes[0, 0].plot(time, xpos_esti_save, 'bo-', label='Estimation (EKF)')\n",
    "axes[0, 0].legend(loc='upper left')\n",
    "axes[0, 0].set_title('Horizontal Distance: Esti. (EKF)')\n",
    "axes[0, 0].set_xlabel('Time [sec]')\n",
    "axes[0, 0].set_ylabel('Horizontal Distance [m]')\n",
    "\n",
    "axes[0, 1].plot(time, ypos_esti_save, 'bo-', label='Estimation (EKF)')\n",
    "axes[0, 1].legend(loc='upper left')\n",
    "axes[0, 1].set_title('Vertical Distance: Esti. (EKF)')\n",
    "axes[0, 1].set_xlabel('Time [sec]')\n",
    "axes[0, 1].set_ylabel('Vertical Distance [m]')\n",
    "\n",
    "axes[1, 0].plot(time, rpos_meas_save, 'r*--', label='Measurements', markersize=10)\n",
    "axes[1, 0].plot(time, rpos_esti_save, 'bo-', label='Estimation (EKF)')\n",
    "axes[1, 0].legend(loc='upper left')\n",
    "axes[1, 0].set_title('Radar Distance: Meas. v.s. Esti. (EKF)')\n",
    "axes[1, 0].set_xlabel('Time [sec]')\n",
    "axes[1, 0].set_ylabel('Radar Distance [m]')\n",
    "\n",
    "axes[1, 1].plot(time, xvel_esti_save, 'bo-', label='Estimation (EKF)')\n",
    "axes[1, 1].legend(loc='upper left')\n",
    "axes[1, 1].set_title('Horizontal Velocity: Esti. (EKF)')\n",
    "axes[1, 1].set_xlabel('Time [sec]')\n",
    "axes[1, 1].set_ylabel('Horizontal Velocity [m/s]')\n",
    "\n",
    "plt.savefig('png/radar_ekf.png')"
   ]
  }
 ],
 "metadata": {
  "kernelspec": {
   "display_name": "Python 3",
   "language": "python",
   "name": "python3"
  },
  "language_info": {
   "codemirror_mode": {
    "name": "ipython",
    "version": 3
   },
   "file_extension": ".py",
   "mimetype": "text/x-python",
   "name": "python",
   "nbconvert_exporter": "python",
   "pygments_lexer": "ipython3",
   "version": "3.8.8"
  }
 },
 "nbformat": 4,
 "nbformat_minor": 2
}
