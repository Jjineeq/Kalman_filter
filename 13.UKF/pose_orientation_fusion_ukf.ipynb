{
 "cells": [
  {
   "cell_type": "code",
   "execution_count": null,
   "metadata": {},
   "outputs": [],
   "source": [
    "import numpy as np\n",
    "import matplotlib.pyplot as plt\n",
    "from numpy.linalg import inv, cholesky\n",
    "from scipy import io"
   ]
  },
  {
   "cell_type": "code",
   "execution_count": null,
   "metadata": {},
   "outputs": [],
   "source": [
    "input_gyro_mat = io.loadmat('../data/ArsGyro.mat')\n",
    "input_accel_mat = io.loadmat('../data/ArsAccel.mat')"
   ]
  },
  {
   "cell_type": "code",
   "execution_count": null,
   "metadata": {},
   "outputs": [],
   "source": [
    "def get_gyro(i):\n",
    "    \"\"\"Measure angular velocity using gyro.\"\"\"\n",
    "    p = input_gyro_mat['wx'][i][0]  # input_mat['wx']: (41500, 1)\n",
    "    q = input_gyro_mat['wy'][i][0]  # input_mat['wy']: (41500, 1)\n",
    "    r = input_gyro_mat['wz'][i][0]  # input_mat['wz']: (41500, 1)\n",
    "    return p, q, r"
   ]
  },
  {
   "cell_type": "code",
   "execution_count": null,
   "metadata": {},
   "outputs": [],
   "source": [
    "def get_accel(i):\n",
    "    \"\"\"Measure angular acceleration using accelerometer (G-meter).\"\"\"\n",
    "    ax = input_accel_mat['fx'][i][0]  # input_mat['fx']: (41500, 1)\n",
    "    ay = input_accel_mat['fy'][i][0]  # input_mat['fy']: (41500, 1)\n",
    "    az = input_accel_mat['fz'][i][0]  # input_mat['fz']: (41500, 1)\n",
    "    return ax, ay, az"
   ]
  },
  {
   "cell_type": "code",
   "execution_count": null,
   "metadata": {},
   "outputs": [],
   "source": [
    "def accel2euler(ax, ay, az, phi, the, psi):\n",
    "    \"\"\"Calculate Euler angle (Pose Orientation).\"\"\"\n",
    "    g = 9.8  # 9.8 [m/s^2]\n",
    "    cosThe = np.cos(the)\n",
    "    phi = np.arcsin(-ay / (g * cosThe))\n",
    "    the = np.arcsin(ax / g)\n",
    "    psi = psi\n",
    "    return phi, the, psi"
   ]
  },
  {
   "cell_type": "code",
   "execution_count": null,
   "metadata": {},
   "outputs": [],
   "source": [
    "def sigma_points(mu, Sigma, kappa):\n",
    "    n = len(mu)\n",
    "    Xi = np.zeros((n, 2*n+1))\n",
    "    W = np.zeros(2*n+1)\n",
    "    \n",
    "    Xi[:, 0] = mu\n",
    "    W[0] = kappa / (n + kappa)\n",
    "    \n",
    "    U = cholesky((n + kappa)*Sigma)\n",
    "    \n",
    "    for i in range(n):\n",
    "        Xi[:, i+1]   = mu + U[:, i]\n",
    "        Xi[:, n+i+1] = mu - U[:, i]\n",
    "        W[i+1]       = 1 / (2*(n+kappa))\n",
    "        W[n+i+1]     = W[i+1]\n",
    "        \n",
    "    return Xi, W"
   ]
  },
  {
   "cell_type": "code",
   "execution_count": null,
   "metadata": {},
   "outputs": [],
   "source": [
    "def UT(Xi, W, noiseCov):\n",
    "    mean = np.sum(W * Xi, axis=1)\n",
    "    cov = W * (Xi - mean.reshape(-1, 1)) @ (Xi  - mean.reshape(-1, 1)).T\n",
    "    return mean, cov + noiseCov"
   ]
  },
  {
   "cell_type": "code",
   "execution_count": null,
   "metadata": {},
   "outputs": [],
   "source": [
    "def fx(x_esti):\n",
    "    _, kmax = x_esti.shape\n",
    "    phi, the, psi = x_esti\n",
    "\n",
    "    sinPhi = np.sin(phi)\n",
    "    cosPhi = np.cos(phi)\n",
    "    tanThe = np.tan(the)\n",
    "    secThe = 1. / np.cos(the)\n",
    "\n",
    "    xdot = np.zeros((3, kmax))\n",
    "    xdot[0, :] = p + q*sinPhi*tanThe + r*cosPhi*tanThe\n",
    "    xdot[1, :] = q*cosPhi - r*sinPhi\n",
    "    xdot[2, :] = q*sinPhi*secThe + r*cosPhi*secThe\n",
    "\n",
    "    x_pred = x_esti + xdot*dt\n",
    "    return x_pred\n",
    "\n",
    "def hx(x_pred):\n",
    "    return H @ x_pred"
   ]
  },
  {
   "cell_type": "code",
   "execution_count": null,
   "metadata": {},
   "outputs": [],
   "source": [
    "def unscented_kalman_filter(z_meas, x_esti, P):\n",
    "    \"\"\"Unscented Kalman Filter Algorithm.\"\"\"\n",
    "    # (1) Sample Sigma Points and Weights.\n",
    "    Xi, W = sigma_points(x_esti, P, kappa)\n",
    "\n",
    "    # (2) Predict Mean and Error Covariance of States.\n",
    "    fXi = fx(Xi)\n",
    "    x_pred, P_x = UT(fXi, W, Q)\n",
    "\n",
    "    # (3) Calculate Mean and Error Covariance for the Expected Observation.\n",
    "    hXi = hx(fXi)\n",
    "    z_pred, P_z = UT(hXi, W, R)\n",
    "\n",
    "    # (4) Calculate Off Diagonal Elements of Error Covariance and Kalman Gain.\n",
    "    Pxz = W * (fXi - x_pred.reshape(-1, 1)) @ (hXi - z_pred.reshape(-1, 1)).T\n",
    "    K = Pxz @ inv(P_z)\n",
    "\n",
    "    # (5) Estimate Mean and Error Covariance of States. \n",
    "    x_esti = x_pred + K @ (z_meas - z_pred)\n",
    "    P = P_x - K @ P_z @ K.T\n",
    "\n",
    "    return x_esti, P"
   ]
  },
  {
   "cell_type": "code",
   "execution_count": null,
   "metadata": {},
   "outputs": [],
   "source": [
    "# Input parameters.\n",
    "n_samples = 41500\n",
    "dt = 0.01"
   ]
  },
  {
   "cell_type": "code",
   "execution_count": null,
   "metadata": {},
   "outputs": [],
   "source": [
    "# Initialization for system model.\n",
    "# Matrix: A, H, Q, R, P_0\n",
    "# Vector: x_0\n",
    "A = np.zeros((3, 3))\n",
    "H = np.eye(3)\n",
    "Q = np.array([[0.0001, 0, 0],\n",
    "              [0, 0.0001, 0],\n",
    "              [0, 0, 1]])\n",
    "R = 10 * np.eye(3)\n",
    "\n",
    "# Initialization for estimation.\n",
    "x_0 = np.zeros(3)  # (phi, the, psi) by my definition.\n",
    "P_0 = 1 * np.eye(3)\n",
    "\n",
    "# Initialization for sigma points.\n",
    "kappa = 0"
   ]
  },
  {
   "cell_type": "code",
   "execution_count": null,
   "metadata": {},
   "outputs": [],
   "source": [
    "time = np.arange(n_samples) * dt\n",
    "phi_esti_save = np.zeros(n_samples)\n",
    "the_esti_save = np.zeros(n_samples)\n",
    "psi_esti_save = np.zeros(n_samples)"
   ]
  },
  {
   "cell_type": "code",
   "execution_count": null,
   "metadata": {},
   "outputs": [],
   "source": [
    "phi, the, psi = 0, 0, 0\n",
    "x_esti, P = None, None\n",
    "for i in range(n_samples):\n",
    "    p, q, r = get_gyro(i)\n",
    "    ax, ay, az = get_accel(i)\n",
    "    phi, the, psi = accel2euler(ax, ay, az, phi, the, psi)\n",
    "    z_meas = np.array([phi, the, psi])\n",
    "\n",
    "    if i == 0:\n",
    "        x_esti, P = x_0, P_0\n",
    "    else:\n",
    "        x_esti, P = unscented_kalman_filter(z_meas, x_esti, P)\n",
    "\n",
    "    phi_esti_save[i] = np.rad2deg(x_esti[0])\n",
    "    the_esti_save[i] = np.rad2deg(x_esti[1])\n",
    "    psi_esti_save[i] = np.rad2deg(x_esti[2])"
   ]
  },
  {
   "cell_type": "code",
   "execution_count": null,
   "metadata": {},
   "outputs": [],
   "source": [
    "fig, axes = plt.subplots(nrows=2, ncols=1, figsize=(15, 12))\n",
    "\n",
    "axes[0].plot(time, phi_esti_save, 'r', label='Roll ($\\\\phi$): Estimation (UKF)', markersize=0.2)\n",
    "axes[0].legend(loc='lower right')\n",
    "axes[0].set_title('Roll ($\\\\phi$): Estimation (UKF)')\n",
    "axes[0].set_xlabel('Time [sec]')\n",
    "axes[0].set_ylabel('Roll ($\\phi$) angle [deg]')\n",
    "\n",
    "axes[1].plot(time, the_esti_save, 'b', label='Pitch ($\\\\theta$): Estimation (UKF)', markersize=0.2)\n",
    "axes[1].legend(loc='lower right')\n",
    "axes[1].set_title('Pitch ($\\\\theta$): Estimation (UKF)')\n",
    "axes[1].set_xlabel('Time [sec]')\n",
    "axes[1].set_ylabel('Pitch ($\\\\theta$) angle [deg]')\n",
    "\n",
    "plt.savefig('png/pose_orientation_fusion_ukf.png')"
   ]
  }
 ],
 "metadata": {
  "kernelspec": {
   "display_name": "Python 3",
   "language": "python",
   "name": "python3"
  },
  "language_info": {
   "codemirror_mode": {
    "name": "ipython",
    "version": 3
   },
   "file_extension": ".py",
   "mimetype": "text/x-python",
   "name": "python",
   "nbconvert_exporter": "python",
   "pygments_lexer": "ipython3",
   "version": "3.8.8"
  }
 },
 "nbformat": 4,
 "nbformat_minor": 2
}
