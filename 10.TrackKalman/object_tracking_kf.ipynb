{
 "cells": [
  {
   "cell_type": "code",
   "execution_count": null,
   "metadata": {},
   "outputs": [],
   "source": [
    "import numpy as np\n",
    "import matplotlib.pyplot as plt\n",
    "import cv2\n",
    "from numpy.linalg import inv\n",
    "from skimage.metrics import structural_similarity\n",
    "\n",
    "np.random.seed(0)"
   ]
  },
  {
   "cell_type": "code",
   "execution_count": null,
   "metadata": {},
   "outputs": [],
   "source": [
    "def get_ball_pos(iimg=0):\n",
    "    \"\"\"Return measured position of ball by comparing with background image file.\n",
    "        - References:\n",
    "        (1) Data Science School:\n",
    "            https://datascienceschool.net/view-notebook/f9f8983941254a34bf0fee42c66c5539\n",
    "        (2) Image Diff Calculation:\n",
    "            https://www.pyimagesearch.com/2017/06/19/image-difference-with-opencv-and-python\n",
    "    \"\"\"    \n",
    "    # Read images.\n",
    "    imageA = cv2.imread('../data/Img/bg.jpg')\n",
    "    imageB = cv2.imread('../data/Img/{}.jpg'.format(iimg+1))\n",
    "\n",
    "    # Convert the images to grayscale.\n",
    "    grayA = cv2.cvtColor(imageA, cv2.COLOR_BGR2GRAY)\n",
    "    grayB = cv2.cvtColor(imageB, cv2.COLOR_BGR2GRAY)\n",
    "\n",
    "    # Compute the Structural Similarity Index (SSIM) between the two images,\n",
    "    # ensuring that the difference image is returned.\n",
    "    _, diff = structural_similarity(grayA, grayB, full=True)\n",
    "    diff = (diff * 255).astype('uint8') \n",
    "\n",
    "    # Threshold the difference image, followed by finding contours to\n",
    "    # obtain the regions of the two input images that differ\n",
    "    thresh = cv2.threshold(diff, 0, 255, cv2.THRESH_BINARY_INV | cv2.THRESH_OTSU)[1]\n",
    "    contours, _ = cv2.findContours(thresh.copy(), cv2.RETR_EXTERNAL, cv2.CHAIN_APPROX_SIMPLE)\n",
    "    M = cv2.moments(contours[0])\n",
    "    xc = int(M['m10'] / M['m00'])  # center of x as true position.\n",
    "    yc = int(M['m01'] / M['m00'])  # center of y as true position.\n",
    "\n",
    "    v = np.random.normal(0, 15)  # v: measurement noise of position.\n",
    "\n",
    "    xpos_meas = xc + v  # x_pos_meas: measured position in x (observable). \n",
    "    ypos_meas = yc + v  # y_pos_meas: measured position in y (observable). \n",
    "\n",
    "    return np.array([xpos_meas, ypos_meas])"
   ]
  },
  {
   "cell_type": "code",
   "execution_count": null,
   "metadata": {},
   "outputs": [],
   "source": [
    "def kalman_filter(z_meas, x_esti, P):\n",
    "    \"\"\"Kalman Filter Algorithm.\"\"\"\n",
    "    # (1) Prediction.\n",
    "    x_pred = A @ x_esti\n",
    "    P_pred = A @ P @ A.T + Q\n",
    "\n",
    "    # (2) Kalman Gain.\n",
    "    K = P_pred @ H.T @ inv(H @ P_pred @ H.T + R)\n",
    "\n",
    "    # (3) Estimation.\n",
    "    x_esti = x_pred + K @ (z_meas - H @ x_pred)\n",
    "\n",
    "    # (4) Error Covariance.\n",
    "    P = P_pred - K @ H @ P_pred\n",
    "\n",
    "    return x_esti, P"
   ]
  },
  {
   "cell_type": "code",
   "execution_count": null,
   "metadata": {},
   "outputs": [],
   "source": [
    "# Input parameters.\n",
    "n_samples = 24\n",
    "dt = 1"
   ]
  },
  {
   "cell_type": "code",
   "execution_count": null,
   "metadata": {},
   "outputs": [],
   "source": [
    "# Initialization for system model.\n",
    "# Matrix: A, H, Q, R, P_0\n",
    "# Vector: x_0\n",
    "A = np.array([[ 1, dt,  0,  0],\n",
    "              [ 0,  1,  0,  0],\n",
    "              [ 0,  0,  1, dt],\n",
    "              [ 0,  0,  0,  1]])\n",
    "H = np.array([[ 1,  0,  0,  0],\n",
    "              [ 0,  0,  1,  0]])\n",
    "Q = 1.0 * np.eye(4)\n",
    "R = np.array([[50,  0],\n",
    "              [ 0, 50]])\n",
    "\n",
    "# Initialization for estimation.\n",
    "x_0 = np.array([0, 0, 0, 0])  # (x-pos, x-vel, y-pos, y-vel) by definition in book.\n",
    "P_0 = 100 * np.eye(4)"
   ]
  },
  {
   "cell_type": "code",
   "execution_count": null,
   "metadata": {},
   "outputs": [],
   "source": [
    "xpos_meas_save = np.zeros(n_samples)\n",
    "ypos_meas_save = np.zeros(n_samples)\n",
    "xpos_esti_save = np.zeros(n_samples)\n",
    "ypos_esti_save = np.zeros(n_samples)"
   ]
  },
  {
   "cell_type": "code",
   "execution_count": null,
   "metadata": {},
   "outputs": [],
   "source": [
    "x_esti, P = None, None\n",
    "for i in range(n_samples):\n",
    "    z_meas = get_ball_pos(i)\n",
    "    if i == 0:\n",
    "        x_esti, P = x_0, P_0\n",
    "    else:\n",
    "        x_esti, P = kalman_filter(z_meas, x_esti, P)\n",
    "\n",
    "    xpos_meas_save[i] = z_meas[0]\n",
    "    ypos_meas_save[i] = z_meas[1]\n",
    "    xpos_esti_save[i] = x_esti[0]\n",
    "    ypos_esti_save[i] = x_esti[2]"
   ]
  },
  {
   "cell_type": "code",
   "execution_count": null,
   "metadata": {},
   "outputs": [],
   "source": [
    "fig = plt.figure(figsize=(8, 8))\n",
    "plt.gca().invert_yaxis()\n",
    "plt.scatter(xpos_meas_save, ypos_meas_save, s=300, c=\"r\", marker='*', label='Position: Measurements')\n",
    "plt.scatter(xpos_esti_save, ypos_esti_save, s=120, c=\"b\", marker='o', label='Position: Estimation (KF)')\n",
    "plt.legend(loc='lower right')\n",
    "plt.title('Position: Meas. v.s. Esti. (KF)')\n",
    "plt.xlabel('X-pos. [m]')\n",
    "plt.ylabel('Y-pos. [m]')\n",
    "plt.xlim((-10, 350))\n",
    "plt.ylim((250, -10))\n",
    "plt.savefig('png/object_tracking_kf.png')"
   ]
  },
  {
   "cell_type": "code",
   "execution_count": null,
   "metadata": {},
   "outputs": [],
   "source": [
    "plt.ion()    \n",
    "for i in range(n_samples):\n",
    "    fig = plt.figure(figsize=(8, 8))    \n",
    "    image = cv2.imread('../data/Img/{}.jpg'.format(i+1))\n",
    "    imgplot = plt.imshow(image)\n",
    "    plt.scatter(xpos_meas_save[i], ypos_meas_save[i], s=300, c=\"r\", marker='*', label='Position: Measurements')\n",
    "    plt.scatter(xpos_esti_save[i], ypos_esti_save[i], s=120, c=\"b\", marker='o', label='Position: Estimation (KF)')\n",
    "    plt.legend(loc='lower right')\n",
    "    plt.title('Position: True v.s. Meas. v.s. Esti. (KF)')\n",
    "    plt.xlabel('X-pos. [m]')\n",
    "    plt.ylabel('Y-pos. [m]')\n",
    "    plt.xlim((-10, 350))\n",
    "    plt.ylim((250, -10))\n",
    "    fig.canvas.draw()\n",
    "    plt.savefig('png/object_tracking_kf{}.png'.format(i+1))\n",
    "    plt.pause(0.05)"
   ]
  }
 ],
 "metadata": {
  "kernelspec": {
   "display_name": "Python 3",
   "language": "python",
   "name": "python3"
  },
  "language_info": {
   "codemirror_mode": {
    "name": "ipython",
    "version": 3
   },
   "file_extension": ".py",
   "mimetype": "text/x-python",
   "name": "python",
   "nbconvert_exporter": "python",
   "pygments_lexer": "ipython3",
   "version": "3.8.8"
  }
 },
 "nbformat": 4,
 "nbformat_minor": 2
}
